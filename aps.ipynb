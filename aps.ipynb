{
 "cells": [
  {
   "cell_type": "markdown",
   "metadata": {},
   "source": [
    "# Integrantes:\n",
    "- Gabriel Fernandes Vieira de Farias"
   ]
  },
  {
   "cell_type": "markdown",
   "metadata": {},
   "source": [
    "# Introdução\n",
    "\n",
    "Este notebook tem como objetivo analisar os fatores mais relevantes para um bom filme, utilizando as avaliações dos 250 melhores filmes do IMDB como proxy. A partir dos dados fornecidos, busquei identificar as características que mais contribuem para um filme ser bem avaliado.\n"
   ]
  },
  {
   "cell_type": "markdown",
   "metadata": {},
   "source": [
    "# Problema\n",
    "\n",
    "Quais fatores são mais determinantes para que um filme seja considerado bom pelos críticos e pelo público? Para responder a essa pergunta, analisarei dados sobre nome, classificação, pontuação, quantidade de avaliações, ano de lançamento, duração, diretores, roteiristas e estrelas dos filmes."
   ]
  },
  {
   "cell_type": "markdown",
   "metadata": {},
   "source": [
    "# Coleta de Dados\n",
    "\n",
    "Os dados foram coletados do IMDB top 250 movies, através de web scraping. Depois, inseri os dados em um arquivo Excel com as seguintes colunas: Nome, Classificação, Pontuação, Quantidade de Avaliações, Ano, Duração, Idade, Diretores, Roteiristas e Estrelas.\n",
    "\n",
    "Abaixo pode ser observado os passos para coleta dos dados"
   ]
  },
  {
   "cell_type": "code",
   "execution_count": 212,
   "metadata": {},
   "outputs": [],
   "source": [
    "import pandas as pd\n",
    "from bs4 import BeautifulSoup\n",
    "import requests\n",
    "import time\n",
    "from sklearn.model_selection import train_test_split\n",
    "from sklearn.ensemble import RandomForestRegressor\n",
    "from sklearn.metrics import mean_squared_error, r2_score\n",
    "import seaborn as sns\n",
    "import matplotlib.pyplot as plt"
   ]
  },
  {
   "cell_type": "code",
   "execution_count": null,
   "metadata": {},
   "outputs": [],
   "source": [
    "url = 'https://m.imdb.com/chart/top/'\n",
    "\n",
    "header = {\n",
    "  \"User-Agent\": \"Mozilla/5.0 (X11; Linux x86_64) AppleWebKit/537.36 (KHTML, like Gecko) Chrome/50.0.2661.75 Safari/537.36\",\n",
    "  \"X-Requested-With\": \"XMLHttpRequest\"\n",
    "}\n",
    "\n",
    "req = requests.get(url, headers=header)\n",
    "bs = BeautifulSoup(req.text, 'html.parser')"
   ]
  },
  {
   "cell_type": "code",
   "execution_count": null,
   "metadata": {},
   "outputs": [],
   "source": [
    "df = pd.DataFrame({ 'Name': [], 'Ranking': [], 'Score': [], 'Review Amount': [], 'Year': [], 'Length': [], 'Rate': [], 'Page Url': [] })"
   ]
  },
  {
   "cell_type": "code",
   "execution_count": null,
   "metadata": {},
   "outputs": [],
   "source": [
    "li_list = bs.find_all('li', { 'class': 'ipc-metadata-list-summary-item' })\n",
    "\n",
    "for li in li_list:\n",
    "  h3 = li.find('h3').text\n",
    "  ranking, title = h3.split('. ', 1)\n",
    "  score = li.find('span', { 'class':'ipc-rating-star--imdb' })['aria-label'].split(': ')[1]\n",
    "  reviews_amount = li.find('span', { 'class': 'ipc-rating-star--voteCount' }).text\n",
    "  metadata = li.find('div', { 'class': 'cli-title-metadata' })\n",
    "  year = metadata.find_all('span')[0].text\n",
    "  length = metadata.find_all('span')[1].text\n",
    "  rate = 'Not Rated'\n",
    "  if len(metadata.find_all('span')) > 2:\n",
    "    rate = metadata.find_all('span')[2].text\n",
    "  \n",
    "  query = li.find('a', { 'class': 'ipc-title-link-wrapper' })['href'].split('/?')[0]\n",
    "  page_url = 'https://m.imdb.com' + query\n",
    "\n",
    "  df.loc[len(df.index)] = [title, ranking, score, reviews_amount, year, length, rate, page_url]\n"
   ]
  },
  {
   "cell_type": "code",
   "execution_count": null,
   "metadata": {},
   "outputs": [],
   "source": [
    "for i, row in df.iterrows():\n",
    "  page_url = row['Page Url']\n",
    "  req = requests.get(page_url, headers=header)\n",
    "  bs = BeautifulSoup(req.text, 'html.parser')\n",
    "\n",
    "  container = bs.find('div', { 'class': 'iOESUA' })\n",
    "  uls = container.find_all('ul', { 'class': 'ipc-inline-list--show-dividers' })\n",
    "  directors = uls[0].find_all('a', { 'class': 'ipc-metadata-list-item__list-content-item' })\n",
    "  writers = uls[1].find_all('a', { 'class': 'ipc-metadata-list-item__list-content-item' })\n",
    "  stars = uls[2].find_all('a', { 'class': 'ipc-metadata-list-item__list-content-item' })\n",
    "\n",
    "  director = ''\n",
    "  for director_tag in directors:\n",
    "    director += director_tag.text + ','\n",
    "  director = director[:-1]\n",
    "\n",
    "  writer = ''\n",
    "  for writer_tag in writers:\n",
    "    writer += writer_tag.text + ','\n",
    "  writer = writer[:-1]\n",
    "\n",
    "  star = ''\n",
    "  for star_tag in stars:\n",
    "    star += star_tag.text + ','\n",
    "  star = star[:-1]\n",
    "\n",
    "  df.loc[i, 'Directors'] = director\n",
    "  df.loc[i, 'Writers'] = writer\n",
    "  df.loc[i, 'Stars'] = star\n",
    "\n",
    "  print(i, row['Name'])\n",
    "\n",
    "  time.sleep(0.5)"
   ]
  },
  {
   "cell_type": "markdown",
   "metadata": {},
   "source": [
    "# Análise\n",
    "\n",
    "Nesta seção, realizei a análise dos dados para identificar os fatores mais relevantes para um bom filme. Comecei limpando os dados e separando os múltiplos nomes nas colunas de diretores, roteiristas e estrelas."
   ]
  },
  {
   "cell_type": "code",
   "execution_count": 257,
   "metadata": {},
   "outputs": [
    {
     "data": {
      "text/html": [
       "<div>\n",
       "<style scoped>\n",
       "    .dataframe tbody tr th:only-of-type {\n",
       "        vertical-align: middle;\n",
       "    }\n",
       "\n",
       "    .dataframe tbody tr th {\n",
       "        vertical-align: top;\n",
       "    }\n",
       "\n",
       "    .dataframe thead th {\n",
       "        text-align: right;\n",
       "    }\n",
       "</style>\n",
       "<table border=\"1\" class=\"dataframe\">\n",
       "  <thead>\n",
       "    <tr style=\"text-align: right;\">\n",
       "      <th></th>\n",
       "      <th>Name</th>\n",
       "      <th>Ranking</th>\n",
       "      <th>Score</th>\n",
       "      <th>Review Amount</th>\n",
       "      <th>Year</th>\n",
       "      <th>Length</th>\n",
       "      <th>Rate</th>\n",
       "      <th>Page Url</th>\n",
       "      <th>Directors</th>\n",
       "      <th>Writers</th>\n",
       "      <th>Stars</th>\n",
       "    </tr>\n",
       "  </thead>\n",
       "  <tbody>\n",
       "    <tr>\n",
       "      <th>0</th>\n",
       "      <td>Um Sonho de Liberdade</td>\n",
       "      <td>1</td>\n",
       "      <td>9.3</td>\n",
       "      <td>(2.9M)</td>\n",
       "      <td>1994</td>\n",
       "      <td>2h 22m</td>\n",
       "      <td>16</td>\n",
       "      <td>https://m.imdb.com/title/tt0111161</td>\n",
       "      <td>Frank Darabont</td>\n",
       "      <td>Stephen King,Frank Darabont</td>\n",
       "      <td>Tim Robbins,Morgan Freeman,Bob Gunton</td>\n",
       "    </tr>\n",
       "    <tr>\n",
       "      <th>1</th>\n",
       "      <td>O Poderoso Chefão</td>\n",
       "      <td>2</td>\n",
       "      <td>9.2</td>\n",
       "      <td>(2M)</td>\n",
       "      <td>1972</td>\n",
       "      <td>2h 55m</td>\n",
       "      <td>14</td>\n",
       "      <td>https://m.imdb.com/title/tt0068646</td>\n",
       "      <td>Francis Ford Coppola</td>\n",
       "      <td>Mario Puzo,Francis Ford Coppola</td>\n",
       "      <td>Marlon Brando,Al Pacino,James Caan</td>\n",
       "    </tr>\n",
       "    <tr>\n",
       "      <th>2</th>\n",
       "      <td>Batman: O Cavaleiro das Trevas</td>\n",
       "      <td>3</td>\n",
       "      <td>9.0</td>\n",
       "      <td>(2.9M)</td>\n",
       "      <td>2008</td>\n",
       "      <td>2h 32m</td>\n",
       "      <td>12</td>\n",
       "      <td>https://m.imdb.com/title/tt0468569</td>\n",
       "      <td>Christopher Nolan</td>\n",
       "      <td>Jonathan Nolan,Christopher Nolan,David S. Goyer</td>\n",
       "      <td>Christian Bale,Heath Ledger,Aaron Eckhart</td>\n",
       "    </tr>\n",
       "    <tr>\n",
       "      <th>3</th>\n",
       "      <td>O Poderoso Chefão II</td>\n",
       "      <td>4</td>\n",
       "      <td>9.0</td>\n",
       "      <td>(1.4M)</td>\n",
       "      <td>1974</td>\n",
       "      <td>3h 22m</td>\n",
       "      <td>14</td>\n",
       "      <td>https://m.imdb.com/title/tt0071562</td>\n",
       "      <td>Francis Ford Coppola</td>\n",
       "      <td>Francis Ford Coppola,Mario Puzo</td>\n",
       "      <td>Al Pacino,Robert De Niro,Robert Duvall</td>\n",
       "    </tr>\n",
       "    <tr>\n",
       "      <th>4</th>\n",
       "      <td>12 Homens e uma Sentença</td>\n",
       "      <td>5</td>\n",
       "      <td>9.0</td>\n",
       "      <td>(867K)</td>\n",
       "      <td>1957</td>\n",
       "      <td>1h 36m</td>\n",
       "      <td>Livre</td>\n",
       "      <td>https://m.imdb.com/title/tt0050083</td>\n",
       "      <td>Sidney Lumet</td>\n",
       "      <td>Reginald Rose</td>\n",
       "      <td>Henry Fonda,Lee J. Cobb,Martin Balsam</td>\n",
       "    </tr>\n",
       "  </tbody>\n",
       "</table>\n",
       "</div>"
      ],
      "text/plain": [
       "                             Name  Ranking  Score Review Amount  Year  Length  \\\n",
       "0           Um Sonho de Liberdade        1    9.3        (2.9M)  1994  2h 22m   \n",
       "1               O Poderoso Chefão        2    9.2          (2M)  1972  2h 55m   \n",
       "2  Batman: O Cavaleiro das Trevas        3    9.0        (2.9M)  2008  2h 32m   \n",
       "3            O Poderoso Chefão II        4    9.0        (1.4M)  1974  3h 22m   \n",
       "4        12 Homens e uma Sentença        5    9.0        (867K)  1957  1h 36m   \n",
       "\n",
       "    Rate                            Page Url             Directors  \\\n",
       "0     16  https://m.imdb.com/title/tt0111161        Frank Darabont   \n",
       "1     14  https://m.imdb.com/title/tt0068646  Francis Ford Coppola   \n",
       "2     12  https://m.imdb.com/title/tt0468569     Christopher Nolan   \n",
       "3     14  https://m.imdb.com/title/tt0071562  Francis Ford Coppola   \n",
       "4  Livre  https://m.imdb.com/title/tt0050083          Sidney Lumet   \n",
       "\n",
       "                                           Writers  \\\n",
       "0                      Stephen King,Frank Darabont   \n",
       "1                  Mario Puzo,Francis Ford Coppola   \n",
       "2  Jonathan Nolan,Christopher Nolan,David S. Goyer   \n",
       "3                  Francis Ford Coppola,Mario Puzo   \n",
       "4                                    Reginald Rose   \n",
       "\n",
       "                                       Stars  \n",
       "0      Tim Robbins,Morgan Freeman,Bob Gunton  \n",
       "1         Marlon Brando,Al Pacino,James Caan  \n",
       "2  Christian Bale,Heath Ledger,Aaron Eckhart  \n",
       "3     Al Pacino,Robert De Niro,Robert Duvall  \n",
       "4      Henry Fonda,Lee J. Cobb,Martin Balsam  "
      ]
     },
     "execution_count": 257,
     "metadata": {},
     "output_type": "execute_result"
    }
   ],
   "source": [
    "file_path = 'movies.xlsx'\n",
    "df = pd.read_excel(file_path)\n",
    "\n",
    "df.head()"
   ]
  },
  {
   "cell_type": "markdown",
   "metadata": {},
   "source": [
    "### Limpeza dos dados"
   ]
  },
  {
   "cell_type": "code",
   "execution_count": 258,
   "metadata": {},
   "outputs": [],
   "source": [
    "df['Directors'] = df['Directors'].str.split(',')\n",
    "df['Writers'] = df['Writers'].str.split(',')\n",
    "df['Stars'] = df['Stars'].str.split(',')"
   ]
  },
  {
   "cell_type": "code",
   "execution_count": 259,
   "metadata": {},
   "outputs": [],
   "source": [
    "def fix_review_amount(amount_str):\n",
    "  amount_num = amount_str.strip()[1:-1]\n",
    "\n",
    "  if(\"M\" in amount_num):\n",
    "    amount_num = float(amount_num[:-1]) * 1000000\n",
    "  elif(\"K\" in amount_num):\n",
    "    amount_num = float(amount_num[:-1]) * 1000\n",
    "\n",
    "  return amount_num"
   ]
  },
  {
   "cell_type": "code",
   "execution_count": 260,
   "metadata": {},
   "outputs": [],
   "source": [
    "def fix_length_to_min(length_str):\n",
    "  duration = 0\n",
    "  splitted = length_str.split()\n",
    "\n",
    "  for time in splitted:\n",
    "    if 'h' in time:\n",
    "      duration += int(time[:-1]) * 60\n",
    "    if 'm' in time:\n",
    "      duration += int(time[:-1])\n",
    "    \n",
    "\n",
    "  return duration"
   ]
  },
  {
   "cell_type": "code",
   "execution_count": 261,
   "metadata": {},
   "outputs": [],
   "source": [
    "def fix_rate(rate_str):\n",
    "  strs = [\n",
    "    \"Livre\",\n",
    "    \"Not Rated\",\n",
    "    \"(Banned)\",\n",
    "    \"Approved\",\n",
    "    \"Passed\"\n",
    "  ]\n",
    "  \n",
    "  if(rate_str in strs): return 0\n",
    "\n",
    "  return int(rate_str)"
   ]
  },
  {
   "cell_type": "code",
   "execution_count": 262,
   "metadata": {},
   "outputs": [],
   "source": [
    "df['Review Amount'] = df['Review Amount'].apply(fix_review_amount)\n",
    "df['Length'] = df['Length'].apply(fix_length_to_min)\n",
    "df['Rate'] = df['Rate'].apply(fix_rate)"
   ]
  },
  {
   "cell_type": "markdown",
   "metadata": {},
   "source": [
    "### Lidando com variáveis categóricas"
   ]
  },
  {
   "cell_type": "code",
   "execution_count": 263,
   "metadata": {},
   "outputs": [],
   "source": [
    "directors_dummies = pd.get_dummies(df['Directors'].explode()).groupby(level=0).sum()\n",
    "writers_dummies = pd.get_dummies(df['Writers'].explode()).groupby(level=0).sum()\n",
    "stars_dummies = pd.get_dummies(df['Stars'].explode()).groupby(level=0).sum()\n",
    "\n",
    "df_final = pd.concat([df, directors_dummies, writers_dummies, stars_dummies], axis=1)"
   ]
  },
  {
   "cell_type": "markdown",
   "metadata": {},
   "source": [
    "### Modelo de Random Forest"
   ]
  },
  {
   "cell_type": "code",
   "execution_count": 264,
   "metadata": {},
   "outputs": [],
   "source": [
    "to_remove_columns = ['Name', 'Ranking', 'Score', 'Page Url', 'Directors', 'Writers', 'Stars']\n",
    "features = filter(lambda x: x not in to_remove_columns,\n",
    "                  df_final.columns.tolist())\n",
    "features = list(features)"
   ]
  },
  {
   "cell_type": "code",
   "execution_count": 265,
   "metadata": {},
   "outputs": [],
   "source": [
    "x = df_final[features]\n",
    "y = df_final['Score']\n",
    "\n",
    "x_train, x_test, y_train, y_test = train_test_split(x, y, test_size=0.2, random_state=43)"
   ]
  },
  {
   "cell_type": "code",
   "execution_count": 266,
   "metadata": {},
   "outputs": [],
   "source": [
    "rf_model = RandomForestRegressor(n_estimators=500, random_state=43)\n",
    "rf_model.fit(x_train, y_train)\n",
    "y_pred = rf_model.predict(x_test)"
   ]
  },
  {
   "cell_type": "code",
   "execution_count": 267,
   "metadata": {},
   "outputs": [
    {
     "name": "stdout",
     "output_type": "stream",
     "text": [
      "MSE: 0.02876114399999874\n",
      "R2: 0.6049293406593588\n"
     ]
    }
   ],
   "source": [
    "mse = mean_squared_error(y_test, y_pred)\n",
    "r2 = r2_score(y_test, y_pred)\n",
    "\n",
    "print(f'MSE: {mse}')\n",
    "print(f'R2: {r2}')"
   ]
  },
  {
   "cell_type": "code",
   "execution_count": 268,
   "metadata": {},
   "outputs": [],
   "source": [
    "feature_importances = pd.DataFrame(rf_model.feature_importances_, \n",
    "                                   columns=['Importance']).sort_values('Importance', ascending=False)\n",
    "indexes = feature_importances.index.tolist()[:10]\n",
    "\n",
    "x_plot = []\n",
    "y_plot = []\n",
    "\n",
    "for i in indexes:\n",
    "  y_plot.append(x.columns[i])\n",
    "  x_plot.append(feature_importances.loc[i, 'Importance'])"
   ]
  },
  {
   "cell_type": "code",
   "execution_count": 269,
   "metadata": {},
   "outputs": [
    {
     "data": {
      "image/png": "[encoded data removed]",
      "text/plain": [
       "<Figure size 1000x600 with 1 Axes>"
      ]
     },
     "metadata": {},
     "output_type": "display_data"
    }
   ],
   "source": [
    "plt.close()\n",
    "plt.figure(figsize=(10, 6))\n",
    "sns.barplot(x=x_plot, y=y_plot)\n",
    "plt.xlabel('Importância')\n",
    "plt.ylabel('Características')\n",
    "plt.title('Importância das Características no Modelo de Random Forest')\n",
    "plt.show()"
   ]
  },
  {
   "cell_type": "code",
   "execution_count": 270,
   "metadata": {},
   "outputs": [
    {
     "data": {
      "image/png": "[encoded data removed]",
      "text/plain": [
       "<Figure size 640x480 with 1 Axes>"
      ]
     },
     "metadata": {},
     "output_type": "display_data"
    }
   ],
   "source": [
    "plt.close()\n",
    "plt.scatter(y_test, y_pred)\n",
    "plt.xlabel('Valores Reais')\n",
    "plt.ylabel('Valores Previstos')\n",
    "plt.title('Valores Reais vs. Valores Previstos')\n",
    "plt.show()"
   ]
  },
  {
   "cell_type": "markdown",
   "metadata": {},
   "source": [
    "Valores abaixo estão em milhares"
   ]
  },
  {
   "cell_type": "markdown",
   "metadata": {},
   "source": [
    "# Conclusão\n",
    "\n",
    "Após se obter os resultados do modelo, é possível observar que se obteve um R2 de, aproximadamente 60%, que é relativamente alto, mostrando que esse modelo pode ser um bom preditor para alta qualidade de um filme e um MSE de, aproximadamente, 2.9%, que está dentro do esperado para um modelo de random forest em dados tabulares.\n",
    "\n",
    "Por outro lado, ao se fazer uma análise das variáveis que compõem o modelo, observa-se que a de maior relevância é o número de avaliações do filme. Isso pode ser um indicativo de que, para que um filme possua alta qualidade, ele precise atingir um alto número de espectadores, o que normalmente é alcançado através de um *budget* alto.\n",
    "\n",
    "Também se sabe que nem todo filme com alto *budget* é um filme que alcança um alto grau de qualidade. Isso pode ser observado facilmente com os últimos lançamentos da **Marvel**.\n",
    "\n",
    "Dessa forma, uma boa estratégia para um filme que será lançado em breve é focar no marketing, pois, poderá trazer lucros e, eventualmente, alcançar altas posições em rankings como o da IMDB."
   ]
  }
 ],
 "metadata": {
  "kernelspec": {
   "display_name": "analise-texto",
   "language": "python",
   "name": "python3"
  },
  "language_info": {
   "codemirror_mode": {
    "name": "ipython",
    "version": 3
   },
   "file_extension": ".py",
   "mimetype": "text/x-python",
   "name": "python",
   "nbconvert_exporter": "python",
   "pygments_lexer": "ipython3",
   "version": "3.9.5"
  }
 },
 "nbformat": 4,
 "nbformat_minor": 2
}
