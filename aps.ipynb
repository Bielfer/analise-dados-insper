{
 "cells": [
  {
   "cell_type": "code",
   "execution_count": null,
   "metadata": {},
   "outputs": [],
   "source": [
    "import pandas as pd\n",
    "from bs4 import BeautifulSoup\n",
    "import requests\n",
    "import time"
   ]
  },
  {
   "cell_type": "code",
   "execution_count": null,
   "metadata": {},
   "outputs": [],
   "source": [
    "url = 'https://m.imdb.com/chart/top/'\n",
    "\n",
    "header = {\n",
    "  \"User-Agent\": \"Mozilla/5.0 (X11; Linux x86_64) AppleWebKit/537.36 (KHTML, like Gecko) Chrome/50.0.2661.75 Safari/537.36\",\n",
    "  \"X-Requested-With\": \"XMLHttpRequest\"\n",
    "}\n",
    "\n",
    "req = requests.get(url, headers=header)\n",
    "bs = BeautifulSoup(req.text, 'html.parser')"
   ]
  },
  {
   "cell_type": "code",
   "execution_count": null,
   "metadata": {},
   "outputs": [],
   "source": [
    "df = pd.DataFrame({ 'Name': [], 'Ranking': [], 'Score': [], 'Review Amount': [], 'Year': [], 'Length': [], 'Rate': [], 'Page Url': [] })"
   ]
  },
  {
   "cell_type": "code",
   "execution_count": null,
   "metadata": {},
   "outputs": [],
   "source": [
    "li_list = bs.find_all('li', { 'class': 'ipc-metadata-list-summary-item' })\n",
    "\n",
    "for li in li_list:\n",
    "  h3 = li.find('h3').text\n",
    "  ranking, title = h3.split('. ', 1)\n",
    "  score = li.find('span', { 'class':'ipc-rating-star--imdb' })['aria-label'].split(': ')[1]\n",
    "  reviews_amount = li.find('span', { 'class': 'ipc-rating-star--voteCount' }).text\n",
    "  metadata = li.find('div', { 'class': 'cli-title-metadata' })\n",
    "  year = metadata.find_all('span')[0].text\n",
    "  length = metadata.find_all('span')[1].text\n",
    "  rate = 'Not Rated'\n",
    "  if len(metadata.find_all('span')) > 2:\n",
    "    rate = metadata.find_all('span')[2].text\n",
    "  \n",
    "  query = li.find('a', { 'class': 'ipc-title-link-wrapper' })['href'].split('/?')[0]\n",
    "  page_url = 'https://m.imdb.com' + query\n",
    "\n",
    "  df.loc[len(df.index)] = [title, ranking, score, reviews_amount, year, length, rate, page_url]\n"
   ]
  },
  {
   "cell_type": "code",
   "execution_count": null,
   "metadata": {},
   "outputs": [],
   "source": [
    "for i, row in df.iterrows():\n",
    "  page_url = row['Page Url']\n",
    "  req = requests.get(page_url, headers=header)\n",
    "  bs = BeautifulSoup(req.text, 'html.parser')\n",
    "\n",
    "  container = bs.find('div', { 'class': 'iOESUA' })\n",
    "  uls = container.find_all('ul', { 'class': 'ipc-inline-list--show-dividers' })\n",
    "  directors = uls[0].find_all('a', { 'class': 'ipc-metadata-list-item__list-content-item' })\n",
    "  writers = uls[1].find_all('a', { 'class': 'ipc-metadata-list-item__list-content-item' })\n",
    "  stars = uls[2].find_all('a', { 'class': 'ipc-metadata-list-item__list-content-item' })\n",
    "\n",
    "  director = ''\n",
    "  for director_tag in directors:\n",
    "    director += director_tag.text + ','\n",
    "  director = director[:-1]\n",
    "\n",
    "  writer = ''\n",
    "  for writer_tag in writers:\n",
    "    writer += writer_tag.text + ','\n",
    "  writer = writer[:-1]\n",
    "\n",
    "  star = ''\n",
    "  for star_tag in stars:\n",
    "    star += star_tag.text + ','\n",
    "  star = star[:-1]\n",
    "\n",
    "  df.loc[i, 'Directors'] = director\n",
    "  df.loc[i, 'Writers'] = writer\n",
    "  df.loc[i, 'Stars'] = star\n",
    "\n",
    "  print(i, row['Name'])\n",
    "\n",
    "  time.sleep(0.5)"
   ]
  },
  {
   "cell_type": "code",
   "execution_count": null,
   "metadata": {},
   "outputs": [],
   "source": [
    "df.to_excel('movies.xlsx')"
   ]
  }
 ],
 "metadata": {
  "kernelspec": {
   "display_name": "analise-texto",
   "language": "python",
   "name": "python3"
  },
  "language_info": {
   "codemirror_mode": {
    "name": "ipython",
    "version": 3
   },
   "file_extension": ".py",
   "mimetype": "text/x-python",
   "name": "python",
   "nbconvert_exporter": "python",
   "pygments_lexer": "ipython3",
   "version": "3.9.5"
  }
 },
 "nbformat": 4,
 "nbformat_minor": 2
}
